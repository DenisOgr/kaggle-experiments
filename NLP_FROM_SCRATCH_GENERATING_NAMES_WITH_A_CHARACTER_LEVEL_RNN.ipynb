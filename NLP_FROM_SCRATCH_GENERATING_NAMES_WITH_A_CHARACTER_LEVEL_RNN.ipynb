{
  "nbformat": 4,
  "nbformat_minor": 0,
  "metadata": {
    "colab": {
      "name": "NLP FROM SCRATCH: GENERATING NAMES WITH A CHARACTER-LEVEL RNN.ipynb",
      "provenance": [],
      "collapsed_sections": [],
      "authorship_tag": "ABX9TyP9bHJgN+Zsp+G2uaHJtIXe",
      "include_colab_link": true
    },
    "kernelspec": {
      "name": "python3",
      "display_name": "Python 3"
    },
    "accelerator": "GPU"
  },
  "cells": [
    {
      "cell_type": "markdown",
      "metadata": {
        "id": "view-in-github",
        "colab_type": "text"
      },
      "source": [
        "<a href=\"https://colab.research.google.com/github/DenisOgr/kaggle-experiments/blob/master/NLP_FROM_SCRATCH_GENERATING_NAMES_WITH_A_CHARACTER_LEVEL_RNN.ipynb\" target=\"_parent\"><img src=\"https://colab.research.google.com/assets/colab-badge.svg\" alt=\"Open In Colab\"/></a>"
      ]
    },
    {
      "cell_type": "markdown",
      "metadata": {
        "id": "-yxZOSiJwCOY",
        "colab_type": "text"
      },
      "source": [
        "## NLP FROM SCRATCH: GENERATING NAMES WITH A CHARACTER-LEVEL RNN\n",
        "Source: https://pytorch.org/tutorials/intermediate/char_rnn_generation_tutorial.html\n"
      ]
    },
    {
      "cell_type": "code",
      "metadata": {
        "id": "p-dhmrIcw7EU",
        "colab_type": "code",
        "colab": {}
      },
      "source": [
        "import torch\n",
        "from torch import nn\n",
        "from __future__ import unicode_literals, print_function, division\n",
        "from io import open\n",
        "import glob\n",
        "import os\n",
        "import unicodedata\n",
        "import string\n",
        "import random"
      ],
      "execution_count": 0,
      "outputs": []
    },
    {
      "cell_type": "markdown",
      "metadata": {
        "id": "YJa-dD5YwOjc",
        "colab_type": "text"
      },
      "source": [
        "### Getting data"
      ]
    },
    {
      "cell_type": "code",
      "metadata": {
        "id": "1eKveDxlwZqU",
        "colab_type": "code",
        "colab": {}
      },
      "source": [
        "!mkdir /content/data\n",
        "!wget https://download.pytorch.org/tutorial/data.zip -P /content/data\n",
        "!unzip -o -d /content/data/ /content/data/data.zip "
      ],
      "execution_count": 0,
      "outputs": []
    },
    {
      "cell_type": "markdown",
      "metadata": {
        "id": "g-vaEYsbwSfj",
        "colab_type": "text"
      },
      "source": [
        "### Preprocessing"
      ]
    },
    {
      "cell_type": "code",
      "metadata": {
        "id": "E9lUMgj1wL1e",
        "colab_type": "code",
        "colab": {}
      },
      "source": [
        "hidden_size = 128\n",
        "all_letters = string.ascii_letters + \" .,;'-\"\n",
        "n_letters = len(all_letters) + 1 # Plus EOS marker\n",
        "#def Utf2Ascii\n",
        "def unicodeToAscii(s):\n",
        "    return ''.join(\n",
        "        c for c in unicodedata.normalize('NFD', s)\n",
        "        if unicodedata.category(c) != 'Mn'\n",
        "        and c in all_letters\n",
        "    )"
      ],
      "execution_count": 0,
      "outputs": []
    },
    {
      "cell_type": "code",
      "metadata": {
        "id": "z8h0GrmOVrIq",
        "colab_type": "code",
        "colab": {}
      },
      "source": [
        "#def get dict all_categories\n",
        "all_categories = {}\n",
        "\n",
        "for file in glob.glob('/content/data/data/names/*'):\n",
        "  category = os.path.basename(file).split('.')[0].lower()\n",
        "  with open(file,encoding='utf-8') as f:\n",
        "    l = [unicodeToAscii(name) for name in f.read().split(\"\\n\")]\n",
        "    all_categories[category] = list(filter(lambda x: x != \"\", l))\n",
        "n_categories = len(all_categories)\n",
        "all_categories_names = list(all_categories.keys())  "
      ],
      "execution_count": 0,
      "outputs": []
    },
    {
      "cell_type": "code",
      "metadata": {
        "id": "GCuuecLLWtHh",
        "colab_type": "code",
        "colab": {
          "base_uri": "https://localhost:8080/",
          "height": 71
        },
        "outputId": "ec60dd7d-7935-4c39-d36f-897003fb0f19"
      },
      "source": [
        "print(all_categories_names)\n",
        "print(all_categories['dutch'][:10])"
      ],
      "execution_count": 138,
      "outputs": [
        {
          "output_type": "stream",
          "text": [
            "['korean', 'french', 'scottish', 'german', 'vietnamese', 'chinese', 'english', 'spanish', 'czech', 'irish', 'russian', 'greek', 'polish', 'japanese', 'portuguese', 'dutch', 'italian', 'arabic']\n",
            "['Aalsburg', 'Aalst', 'Aarle', 'Achteren', 'Achthoven', 'Adrichem', 'Aggelen', 'Agteren', 'Agthoven', 'Akkeren']\n"
          ],
          "name": "stdout"
        }
      ]
    },
    {
      "cell_type": "markdown",
      "metadata": {
        "id": "u8GidJbPwbkZ",
        "colab_type": "text"
      },
      "source": [
        "### Training"
      ]
    },
    {
      "cell_type": "code",
      "metadata": {
        "id": "dwXxFYop8gDK",
        "colab_type": "code",
        "colab": {}
      },
      "source": [
        "def randomItem(all_categories):\n",
        "  '''\n",
        "  input dict all_categories {'string': <list[string]>}\n",
        "  return: string category, string name\n",
        "  '''\n",
        "  category = random.choice(all_categories_names)\n",
        "  name = random.choice(all_categories[category])\n",
        "  return category, name\n",
        "\n",
        "def cat2tensor(category):\n",
        "  '''\n",
        "  input: string category\n",
        "  return: torch.Tensor((1,n_categories))\n",
        "  '''\n",
        "  tensor = torch.zeros((1, n_categories))\n",
        "  tensor[0][all_categories_names.index(category)] = 1\n",
        "  return tensor  \n",
        "\n",
        "def name2tensor(name):\n",
        "  '''\n",
        "  input string name\n",
        "  return torch.Tensor((len(name), n_letters))\n",
        "  ''' \n",
        "  tensor = torch.zeros((len(name), 1, n_letters))\n",
        "  for idx, ch in enumerate(name):\n",
        "    tensor[idx][0][all_letters.index(ch)] = 1\n",
        "  return tensor\n",
        "\n",
        "def name2outputTensor(name):\n",
        "  '''\n",
        "  Compute output with EOS\n",
        "  input string name\n",
        "  return torch.Tensor((len(name),n_letters))\n",
        "  '''\n",
        "  l = [all_letters.index(ch) for ch in name]\n",
        "  l.append(n_letters-1) #add EOS\n",
        "  return torch.LongTensor(l)\n",
        "\n",
        "def output2letter(output):\n",
        "  idx = output.topk(1)[1][0][0].item()\n",
        "  try:\n",
        "    return all_letters[idx]\n",
        "  except IndexError:\n",
        "    return '<EOS>'\n"
      ],
      "execution_count": 0,
      "outputs": []
    },
    {
      "cell_type": "markdown",
      "metadata": {
        "id": "SGjEtX8gweDl",
        "colab_type": "text"
      },
      "source": [
        "#### Model"
      ]
    },
    {
      "cell_type": "code",
      "metadata": {
        "id": "M3v2iZLXw2BF",
        "colab_type": "code",
        "colab": {}
      },
      "source": [
        "class RNN(nn.Module):\n",
        "  def __init__(self, input_size, hidden_size, output_size):\n",
        "    super(RNN, self).__init__()\n",
        "    comb_input_size = n_categories + input_size+hidden_size\n",
        "    self.i2h = nn.Linear(comb_input_size, hidden_size)\n",
        "    self.i2o = nn.Linear(comb_input_size, output_size)\n",
        "    self.o2o = nn.Linear(output_size+hidden_size, output_size)\n",
        "    self.dropout = nn.Dropout(p=0.1)\n",
        "    self.softmax = nn.LogSoftmax(dim=1)\n",
        "  \n",
        "  def forward(self, caterory, letter, hidden):\n",
        "    combined = torch.cat((caterory, letter, hidden), dim=1)\n",
        "    hidden = self.i2h(combined)\n",
        "    output = self.i2o(combined)\n",
        "\n",
        "    combined = torch.cat((hidden, output), dim=1)\n",
        "    output = self.softmax(self.dropout(self.o2o(combined)))\n",
        "\n",
        "    return hidden, output"
      ],
      "execution_count": 0,
      "outputs": []
    },
    {
      "cell_type": "code",
      "metadata": {
        "id": "wrgl6E__bT4g",
        "colab_type": "code",
        "colab": {}
      },
      "source": [
        "# rnn = RNN(n_letters, hidden_size, n_letters)\n",
        "# c, n = randomItem(all_categories)\n",
        "# hidden = torch.zeros((1, hidden_size))\n",
        "# rnn(cat2tensor(c), name2tensor(n)[0], hidden)"
      ],
      "execution_count": 0,
      "outputs": []
    },
    {
      "cell_type": "markdown",
      "metadata": {
        "id": "jduHcjxxwgXl",
        "colab_type": "text"
      },
      "source": [
        "#### Train process"
      ]
    },
    {
      "cell_type": "code",
      "metadata": {
        "id": "BrdywB6r-QLp",
        "colab_type": "code",
        "colab": {}
      },
      "source": [
        "def train(category, name):\n",
        "  '''\n",
        "  Init hidden state\n",
        "  Iterate over all characters in word\n",
        "  Compute loss and gradients\n",
        "  Apply gradients to network parametrs \n",
        "  '''\n",
        "  rnn.zero_grad()\n",
        "  all_loss = 0\n",
        "  hidden = torch.zeros((1, hidden_size))\n",
        "  catTensor = cat2tensor(category)\n",
        "  nameTensor = name2tensor(name)\n",
        "  targetTensor = name2outputTensor(name)\n",
        "  targetTensor.unsqueeze_(-1)\n",
        "\n",
        "  for i in range(nameTensor.size(0)):\n",
        "    input = nameTensor[i]\n",
        "    \n",
        "    hidden, output = rnn(catTensor, input, hidden)\n",
        "    loss = criteria(output, targetTensor[i])\n",
        "    all_loss += loss\n",
        "  \n",
        "  all_loss.backward()\n",
        "\n",
        "  for p in rnn.parameters():\n",
        "    p.data.add_(-lr, p.grad.data)\n",
        "\n",
        "  return all_loss.item() / nameTensor.size(0)"
      ],
      "execution_count": 0,
      "outputs": []
    },
    {
      "cell_type": "code",
      "metadata": {
        "id": "3H0GgN9-A9Ka",
        "colab_type": "code",
        "colab": {}
      },
      "source": [
        "rnn = RNN(n_letters, hidden_size, n_letters)\n",
        "lr = 0.0005\n",
        "n_iteration=50000\n",
        "criteria = nn.NLLLoss()\n",
        "all_loss = 0\n",
        "print_every = 5000\n",
        "\n",
        "for i in range(1, n_iteration):\n",
        "  category, name = randomItem(all_categories)\n",
        "  loss = train(category, name)\n",
        "  all_loss +=loss\n",
        "  if i % print_every == 0:\n",
        "    print(\"[%d]: loss: %.2f\"%(i, all_loss/print_every))\n",
        "    all_loss=0\n"
      ],
      "execution_count": 0,
      "outputs": []
    },
    {
      "cell_type": "code",
      "metadata": {
        "id": "MCwbotX0tNS6",
        "colab_type": "code",
        "colab": {}
      },
      "source": [
        "torch.save(rnn, './rnn.model')"
      ],
      "execution_count": 0,
      "outputs": []
    },
    {
      "cell_type": "markdown",
      "metadata": {
        "id": "8IaHbCubwl6G",
        "colab_type": "text"
      },
      "source": [
        "#### Evaluate process"
      ]
    },
    {
      "cell_type": "markdown",
      "metadata": {
        "id": "CqxCs2cpwomS",
        "colab_type": "text"
      },
      "source": [
        "### Predict/evaluate"
      ]
    },
    {
      "cell_type": "code",
      "metadata": {
        "id": "HHb6ZDnBwwbF",
        "colab_type": "code",
        "colab": {}
      },
      "source": [
        "def generate(cat, letter, max_size = 10):\n",
        "  with torch.no_grad():\n",
        "    result = letter\n",
        "    categoryTensor = cat2tensor(cat)\n",
        "    hidden = torch.zeros((1, hidden_size))\n",
        "    for _ in range(max_size):\n",
        "      letterTensor = name2tensor(letter)\n",
        "      hidden, output = rnn(categoryTensor, letterTensor[0], hidden)\n",
        "      letter = output2letter(output)\n",
        "      if letter != '<EOS>':\n",
        "        result += letter\n",
        "  return result\n",
        "\n"
      ],
      "execution_count": 0,
      "outputs": []
    },
    {
      "cell_type": "code",
      "metadata": {
        "id": "HI6Fx9uLwayt",
        "colab_type": "code",
        "colab": {
          "base_uri": "https://localhost:8080/",
          "height": 34
        },
        "outputId": "6221bba1-db05-466e-83ce-d7f091236e50"
      },
      "source": [
        "generate('english', 'D')"
      ],
      "execution_count": 240,
      "outputs": [
        {
          "output_type": "execute_result",
          "data": {
            "text/plain": [
              "'Douuunnnnnn'"
            ]
          },
          "metadata": {
            "tags": []
          },
          "execution_count": 240
        }
      ]
    },
    {
      "cell_type": "code",
      "metadata": {
        "id": "YBQiP3D7xJiy",
        "colab_type": "code",
        "colab": {}
      },
      "source": [
        ""
      ],
      "execution_count": 0,
      "outputs": []
    }
  ]
}