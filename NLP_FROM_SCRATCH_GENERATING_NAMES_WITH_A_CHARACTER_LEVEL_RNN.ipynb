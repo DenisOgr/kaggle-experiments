{
  "nbformat": 4,
  "nbformat_minor": 0,
  "metadata": {
    "colab": {
      "name": "NLP FROM SCRATCH: GENERATING NAMES WITH A CHARACTER-LEVEL RNN.ipynb",
      "provenance": [],
      "collapsed_sections": [],
      "authorship_tag": "ABX9TyPM6HmeIJNBa6cHUKX8gjJx",
      "include_colab_link": true
    },
    "kernelspec": {
      "name": "python3",
      "display_name": "Python 3"
    },
    "accelerator": "GPU"
  },
  "cells": [
    {
      "cell_type": "markdown",
      "metadata": {
        "id": "view-in-github",
        "colab_type": "text"
      },
      "source": [
        "<a href=\"https://colab.research.google.com/github/DenisOgr/kaggle-experiments/blob/master/NLP_FROM_SCRATCH_GENERATING_NAMES_WITH_A_CHARACTER_LEVEL_RNN.ipynb\" target=\"_parent\"><img src=\"https://colab.research.google.com/assets/colab-badge.svg\" alt=\"Open In Colab\"/></a>"
      ]
    },
    {
      "cell_type": "markdown",
      "metadata": {
        "id": "-yxZOSiJwCOY",
        "colab_type": "text"
      },
      "source": [
        "## NLP FROM SCRATCH: GENERATING NAMES WITH A CHARACTER-LEVEL RNN\n",
        "Source: https://pytorch.org/tutorials/intermediate/char_rnn_generation_tutorial.html\n"
      ]
    },
    {
      "cell_type": "code",
      "metadata": {
        "id": "p-dhmrIcw7EU",
        "colab_type": "code",
        "colab": {}
      },
      "source": [
        "import torch\n",
        "from torch import nn\n",
        "from __future__ import unicode_literals, print_function, division\n",
        "from io import open\n",
        "import glob\n",
        "import os\n",
        "import unicodedata\n",
        "import string\n",
        "import random"
      ],
      "execution_count": 0,
      "outputs": []
    },
    {
      "cell_type": "markdown",
      "metadata": {
        "id": "YJa-dD5YwOjc",
        "colab_type": "text"
      },
      "source": [
        "### Getting data"
      ]
    },
    {
      "cell_type": "code",
      "metadata": {
        "id": "1eKveDxlwZqU",
        "colab_type": "code",
        "colab": {
          "base_uri": "https://localhost:8080/",
          "height": 578
        },
        "outputId": "b8355e2c-eec2-4c8c-d5bc-332143c86e44"
      },
      "source": [
        "!mkdir /content/data\n",
        "!wget https://download.pytorch.org/tutorial/data.zip -P /content/data\n",
        "!unzip -o -d /content/data/ /content/data/data.zip "
      ],
      "execution_count": 2,
      "outputs": [
        {
          "output_type": "stream",
          "text": [
            "--2020-03-07 16:21:31--  https://download.pytorch.org/tutorial/data.zip\n",
            "Resolving download.pytorch.org (download.pytorch.org)... 13.224.253.59, 13.224.253.92, 13.224.253.46, ...\n",
            "Connecting to download.pytorch.org (download.pytorch.org)|13.224.253.59|:443... connected.\n",
            "HTTP request sent, awaiting response... 200 OK\n",
            "Length: 2882130 (2.7M) [application/zip]\n",
            "Saving to: ‘/content/data/data.zip’\n",
            "\n",
            "\rdata.zip              0%[                    ]       0  --.-KB/s               \rdata.zip            100%[===================>]   2.75M  --.-KB/s    in 0.1s    \n",
            "\n",
            "2020-03-07 16:21:31 (27.9 MB/s) - ‘/content/data/data.zip’ saved [2882130/2882130]\n",
            "\n",
            "Archive:  /content/data/data.zip\n",
            "   creating: /content/data/data/\n",
            "  inflating: /content/data/data/eng-fra.txt  \n",
            "   creating: /content/data/data/names/\n",
            "  inflating: /content/data/data/names/Arabic.txt  \n",
            "  inflating: /content/data/data/names/Chinese.txt  \n",
            "  inflating: /content/data/data/names/Czech.txt  \n",
            "  inflating: /content/data/data/names/Dutch.txt  \n",
            "  inflating: /content/data/data/names/English.txt  \n",
            "  inflating: /content/data/data/names/French.txt  \n",
            "  inflating: /content/data/data/names/German.txt  \n",
            "  inflating: /content/data/data/names/Greek.txt  \n",
            "  inflating: /content/data/data/names/Irish.txt  \n",
            "  inflating: /content/data/data/names/Italian.txt  \n",
            "  inflating: /content/data/data/names/Japanese.txt  \n",
            "  inflating: /content/data/data/names/Korean.txt  \n",
            "  inflating: /content/data/data/names/Polish.txt  \n",
            "  inflating: /content/data/data/names/Portuguese.txt  \n",
            "  inflating: /content/data/data/names/Russian.txt  \n",
            "  inflating: /content/data/data/names/Scottish.txt  \n",
            "  inflating: /content/data/data/names/Spanish.txt  \n",
            "  inflating: /content/data/data/names/Vietnamese.txt  \n"
          ],
          "name": "stdout"
        }
      ]
    },
    {
      "cell_type": "markdown",
      "metadata": {
        "id": "g-vaEYsbwSfj",
        "colab_type": "text"
      },
      "source": [
        "### Preprocessing"
      ]
    },
    {
      "cell_type": "code",
      "metadata": {
        "id": "E9lUMgj1wL1e",
        "colab_type": "code",
        "colab": {}
      },
      "source": [
        "hidden_size = 128\n",
        "all_letters = string.ascii_letters + \" .,;'-\"\n",
        "n_letters = len(all_letters) + 1 # Plus EOS marker\n",
        "#def Utf2Ascii\n",
        "def unicodeToAscii(s):\n",
        "    return ''.join(\n",
        "        c for c in unicodedata.normalize('NFD', s)\n",
        "        if unicodedata.category(c) != 'Mn'\n",
        "        and c in all_letters\n",
        "    )"
      ],
      "execution_count": 0,
      "outputs": []
    },
    {
      "cell_type": "code",
      "metadata": {
        "id": "z8h0GrmOVrIq",
        "colab_type": "code",
        "colab": {}
      },
      "source": [
        "#def get dict all_categories\n",
        "all_categories = {}\n",
        "\n",
        "for file in glob.glob('/content/data/data/names/*'):\n",
        "  category = os.path.basename(file).split('.')[0].lower()\n",
        "  with open(file,encoding='utf-8') as f:\n",
        "    l = [unicodeToAscii(name) for name in f.read().split(\"\\n\")]\n",
        "    all_categories[category] = list(filter(lambda x: x != \"\", l))\n",
        "n_categories = len(all_categories)\n",
        "all_categories_names = list(all_categories.keys())  "
      ],
      "execution_count": 0,
      "outputs": []
    },
    {
      "cell_type": "code",
      "metadata": {
        "id": "GCuuecLLWtHh",
        "colab_type": "code",
        "outputId": "406d22f0-bac7-4201-9454-a96c14a637c4",
        "colab": {
          "base_uri": "https://localhost:8080/",
          "height": 71
        }
      },
      "source": [
        "print(all_categories_names)\n",
        "print(all_categories['dutch'][:10])"
      ],
      "execution_count": 5,
      "outputs": [
        {
          "output_type": "stream",
          "text": [
            "['korean', 'french', 'scottish', 'german', 'vietnamese', 'chinese', 'english', 'spanish', 'czech', 'irish', 'russian', 'greek', 'polish', 'japanese', 'portuguese', 'dutch', 'italian', 'arabic']\n",
            "['Aalsburg', 'Aalst', 'Aarle', 'Achteren', 'Achthoven', 'Adrichem', 'Aggelen', 'Agteren', 'Agthoven', 'Akkeren']\n"
          ],
          "name": "stdout"
        }
      ]
    },
    {
      "cell_type": "markdown",
      "metadata": {
        "id": "u8GidJbPwbkZ",
        "colab_type": "text"
      },
      "source": [
        "### Training"
      ]
    },
    {
      "cell_type": "code",
      "metadata": {
        "id": "dwXxFYop8gDK",
        "colab_type": "code",
        "colab": {}
      },
      "source": [
        "def randomItem(all_categories):\n",
        "  '''\n",
        "  input dict all_categories {'string': <list[string]>}\n",
        "  return: string category, string name\n",
        "  '''\n",
        "  category = random.choice(all_categories_names)\n",
        "  name = random.choice(all_categories[category])\n",
        "  return category, name\n",
        "\n",
        "def cat2tensor(category):\n",
        "  '''\n",
        "  input: string category\n",
        "  return: torch.Tensor((1,n_categories))\n",
        "  '''\n",
        "  tensor = torch.zeros((1, n_categories))\n",
        "  tensor[0][all_categories_names.index(category)] = 1\n",
        "  return tensor  \n",
        "\n",
        "def name2tensor(name):\n",
        "  '''\n",
        "  input string name\n",
        "  return torch.Tensor((len(name), n_letters))\n",
        "  ''' \n",
        "  tensor = torch.zeros((len(name), 1, n_letters))\n",
        "  for idx, ch in enumerate(name):\n",
        "    tensor[idx][0][all_letters.index(ch)] = 1\n",
        "  return tensor\n",
        "\n",
        "def name2outputTensor(name):\n",
        "  '''\n",
        "  Compute output with EOS\n",
        "  input string name\n",
        "  return torch.Tensor((len(name),n_letters))\n",
        "  '''\n",
        "  l = [all_letters.index(ch) for ch in name]\n",
        "  l.append(n_letters-1) #add EOS\n",
        "  return torch.LongTensor(l)\n",
        "\n",
        "def output2letter(output):\n",
        "  idx = output.topk(1)[1][0][0].item()\n",
        "  try:\n",
        "    return all_letters[idx]\n",
        "  except IndexError:\n",
        "    return '<EOS>'\n"
      ],
      "execution_count": 0,
      "outputs": []
    },
    {
      "cell_type": "markdown",
      "metadata": {
        "id": "SGjEtX8gweDl",
        "colab_type": "text"
      },
      "source": [
        "#### Model"
      ]
    },
    {
      "cell_type": "code",
      "metadata": {
        "id": "M3v2iZLXw2BF",
        "colab_type": "code",
        "colab": {}
      },
      "source": [
        "class RNN(nn.Module):\n",
        "  def __init__(self, input_size, hidden_size, output_size):\n",
        "    super(RNN, self).__init__()\n",
        "    comb_input_size = n_categories + input_size+hidden_size\n",
        "    self.i2h = nn.Linear(comb_input_size, hidden_size)\n",
        "    self.i2o = nn.Linear(comb_input_size, output_size)\n",
        "    self.o2o = nn.Linear(output_size+hidden_size, output_size)\n",
        "    self.dropout = nn.Dropout(p=0.1)\n",
        "    self.softmax = nn.LogSoftmax(dim=1)\n",
        "  \n",
        "  def forward(self, caterory, letter, hidden):\n",
        "    combined = torch.cat((caterory, letter, hidden), dim=1)\n",
        "    hidden = self.i2h(combined)\n",
        "    output = self.i2o(combined)\n",
        "\n",
        "    combined = torch.cat((hidden, output), dim=1)\n",
        "    output = self.softmax(self.dropout(self.o2o(combined)))\n",
        "\n",
        "    return hidden, output"
      ],
      "execution_count": 0,
      "outputs": []
    },
    {
      "cell_type": "code",
      "metadata": {
        "id": "wrgl6E__bT4g",
        "colab_type": "code",
        "colab": {}
      },
      "source": [
        "# rnn = RNN(n_letters, hidden_size, n_letters)\n",
        "# c, n = randomItem(all_categories)\n",
        "# hidden = torch.zeros((1, hidden_size))\n",
        "# rnn(cat2tensor(c), name2tensor(n)[0], hidden)"
      ],
      "execution_count": 0,
      "outputs": []
    },
    {
      "cell_type": "markdown",
      "metadata": {
        "id": "jduHcjxxwgXl",
        "colab_type": "text"
      },
      "source": [
        "#### Train process"
      ]
    },
    {
      "cell_type": "code",
      "metadata": {
        "id": "BrdywB6r-QLp",
        "colab_type": "code",
        "colab": {}
      },
      "source": [
        "def train(category, name):\n",
        "  '''\n",
        "  Init hidden state\n",
        "  Iterate over all characters in word\n",
        "  Compute loss and gradients\n",
        "  Apply gradients to network parametrs \n",
        "  '''\n",
        "  rnn.zero_grad()\n",
        "  all_loss = 0\n",
        "  hidden = torch.zeros((1, hidden_size)).cuda()\n",
        "  catTensor = cat2tensor(category).cuda()\n",
        "  nameTensor = name2tensor(name).cuda()\n",
        "  targetTensor = name2outputTensor(name).cuda()\n",
        "  targetTensor.unsqueeze_(-1)\n",
        "\n",
        "  for i in range(nameTensor.size(0)):\n",
        "    input = nameTensor[i]\n",
        "    \n",
        "    hidden, output = rnn(catTensor, input, hidden)\n",
        "    loss = criteria(output, targetTensor[i])\n",
        "    all_loss += loss\n",
        "  \n",
        "  all_loss.backward()\n",
        "\n",
        "  for p in rnn.parameters():\n",
        "    p.data.add_(-lr, p.grad.data)\n",
        "\n",
        "  return all_loss.item() / nameTensor.size(0)"
      ],
      "execution_count": 0,
      "outputs": []
    },
    {
      "cell_type": "code",
      "metadata": {
        "id": "3H0GgN9-A9Ka",
        "colab_type": "code",
        "colab": {
          "base_uri": "https://localhost:8080/",
          "height": 340
        },
        "outputId": "52eae227-c2ab-42f5-cbeb-94d94e71b2fa"
      },
      "source": [
        "#rnn = RNN(n_letters, hidden_size, n_letters)\n",
        "#rnn.cuda()\n",
        "lr = 0.0005\n",
        "n_iteration=100000\n",
        "criteria = nn.NLLLoss()\n",
        "all_loss = 0\n",
        "print_every = 5000\n",
        "\n",
        "for i in range(1, n_iteration):\n",
        "  category, name = randomItem(all_categories)\n",
        "  loss = train(category, name)\n",
        "  all_loss +=loss\n",
        "  if i % print_every == 0:\n",
        "    print(\"[%d]: loss: %.2f\"%(i, all_loss/print_every))\n",
        "    all_loss=0\n"
      ],
      "execution_count": 21,
      "outputs": [
        {
          "output_type": "stream",
          "text": [
            "[5000]: loss: 0.34\n",
            "[10000]: loss: 0.33\n",
            "[15000]: loss: 0.32\n",
            "[20000]: loss: 0.31\n",
            "[25000]: loss: 0.31\n",
            "[30000]: loss: 0.30\n",
            "[35000]: loss: 0.29\n",
            "[40000]: loss: 0.28\n",
            "[45000]: loss: 0.28\n",
            "[50000]: loss: 0.27\n",
            "[55000]: loss: 0.26\n",
            "[60000]: loss: 0.27\n",
            "[65000]: loss: 0.26\n",
            "[70000]: loss: 0.25\n",
            "[75000]: loss: 0.25\n",
            "[80000]: loss: 0.25\n",
            "[85000]: loss: 0.25\n",
            "[90000]: loss: 0.25\n",
            "[95000]: loss: 0.24\n"
          ],
          "name": "stdout"
        }
      ]
    },
    {
      "cell_type": "code",
      "metadata": {
        "id": "MCwbotX0tNS6",
        "colab_type": "code",
        "colab": {
          "base_uri": "https://localhost:8080/",
          "height": 71
        },
        "outputId": "8acc9346-cdb5-4018-c296-5feecf9fa02a"
      },
      "source": [
        "torch.save(rnn, './rnn.model')"
      ],
      "execution_count": 22,
      "outputs": [
        {
          "output_type": "stream",
          "text": [
            "/usr/local/lib/python3.6/dist-packages/torch/serialization.py:360: UserWarning: Couldn't retrieve source code for container of type RNN. It won't be checked for correctness upon loading.\n",
            "  \"type \" + obj.__name__ + \". It won't be checked \"\n"
          ],
          "name": "stderr"
        }
      ]
    },
    {
      "cell_type": "markdown",
      "metadata": {
        "id": "8IaHbCubwl6G",
        "colab_type": "text"
      },
      "source": [
        "#### Evaluate process"
      ]
    },
    {
      "cell_type": "markdown",
      "metadata": {
        "id": "CqxCs2cpwomS",
        "colab_type": "text"
      },
      "source": [
        "### Predict/evaluate"
      ]
    },
    {
      "cell_type": "code",
      "metadata": {
        "id": "HHb6ZDnBwwbF",
        "colab_type": "code",
        "colab": {}
      },
      "source": [
        "def generate(cat, letter, max_size = 10):\n",
        "  with torch.no_grad():\n",
        "    result = letter\n",
        "    categoryTensor = cat2tensor(cat).cuda()\n",
        "    hidden = torch.zeros((1, hidden_size)).cuda()\n",
        "    for _ in range(max_size):\n",
        "      letterTensor = name2tensor(letter).cuda()\n",
        "      hidden, output = rnn(categoryTensor, letterTensor[0], hidden)\n",
        "      letter = output2letter(output)\n",
        "      if letter != '<EOS>':\n",
        "        result += letter\n",
        "  return result\n",
        "\n"
      ],
      "execution_count": 0,
      "outputs": []
    },
    {
      "cell_type": "code",
      "metadata": {
        "id": "HI6Fx9uLwayt",
        "colab_type": "code",
        "outputId": "cf24af8c-dff7-491d-af8d-2b3c811c82e7",
        "colab": {
          "base_uri": "https://localhost:8080/",
          "height": 34
        }
      },
      "source": [
        "generate('russian', 'A')"
      ],
      "execution_count": 24,
      "outputs": [
        {
          "output_type": "execute_result",
          "data": {
            "text/plain": [
              "'AAkkkkkkkkk'"
            ]
          },
          "metadata": {
            "tags": []
          },
          "execution_count": 24
        }
      ]
    },
    {
      "cell_type": "code",
      "metadata": {
        "id": "YBQiP3D7xJiy",
        "colab_type": "code",
        "colab": {}
      },
      "source": [
        ""
      ],
      "execution_count": 0,
      "outputs": []
    }
  ]
}