{
  "nbformat": 4,
  "nbformat_minor": 0,
  "metadata": {
    "colab": {
      "name": "PytorchRNNFromScratch.ipynb",
      "provenance": [],
      "collapsed_sections": [
        "ppTIg7NVVLQt"
      ],
      "authorship_tag": "ABX9TyOsYWL60RpUEk9LK8lo9d/I",
      "include_colab_link": true
    },
    "kernelspec": {
      "name": "python3",
      "display_name": "Python 3"
    },
    "accelerator": "GPU"
  },
  "cells": [
    {
      "cell_type": "markdown",
      "metadata": {
        "id": "view-in-github",
        "colab_type": "text"
      },
      "source": [
        "<a href=\"https://colab.research.google.com/github/DenisOgr/kaggle-experiments/blob/master/PytorchRNNFromScratch.ipynb\" target=\"_parent\"><img src=\"https://colab.research.google.com/assets/colab-badge.svg\" alt=\"Open In Colab\"/></a>"
      ]
    },
    {
      "cell_type": "code",
      "metadata": {
        "id": "Z2NoHTRYVOHR",
        "colab_type": "code",
        "colab": {}
      },
      "source": [
        "import glob\n",
        "import os\n",
        "import unicodedata\n",
        "import string\n",
        "import torch\n",
        "from torch import nn\n",
        "import random\n",
        "import matplotlib.pyplot as plt\n",
        "import matplotlib.ticker as ticker\n"
      ],
      "execution_count": 0,
      "outputs": []
    },
    {
      "cell_type": "markdown",
      "metadata": {
        "id": "ppTIg7NVVLQt",
        "colab_type": "text"
      },
      "source": [
        "## Data"
      ]
    },
    {
      "cell_type": "code",
      "metadata": {
        "id": "HgxXa59FVdR8",
        "colab_type": "code",
        "colab": {}
      },
      "source": [
        "#Download\n",
        "#Read to dict (lang: list of names). Converted to ASCII"
      ],
      "execution_count": 0,
      "outputs": []
    },
    {
      "cell_type": "code",
      "metadata": {
        "id": "iWFvTXzuWTJH",
        "colab_type": "code",
        "colab": {}
      },
      "source": [
        "!mkdir /content/data\n",
        "!wget https://download.pytorch.org/tutorial/data.zip -P /content/data\n",
        "!unzip -o -d /content/data/ /content/data/data.zip "
      ],
      "execution_count": 0,
      "outputs": []
    },
    {
      "cell_type": "code",
      "metadata": {
        "id": "Owf8RgO_XfQM",
        "colab_type": "code",
        "colab": {}
      },
      "source": [
        "all_categories = {}\n",
        "all_letters = string.ascii_letters + \" .,;'\"\n",
        "n_letters = len(all_letters)\n",
        "\n",
        "def unicodeToAscii(s):\n",
        "    return ''.join(\n",
        "        c for c in unicodedata.normalize('NFD', s)\n",
        "        if unicodedata.category(c) != 'Mn'\n",
        "        and c in all_letters\n",
        "    )\n",
        "for file in glob.glob('/content/data/data/names/*'):\n",
        "  cat = os.path.basename(file).split('.')[0].lower()\n",
        "  list_of_names = [unicodeToAscii(line.rstrip()) for line in open(file).readlines()]\n",
        "  all_categories[cat] = list_of_names\n",
        "\n",
        "all_categories_names = list(all_categories.keys())\n",
        "hidden_size=128\n",
        "n_categories = len(all_categories_names)"
      ],
      "execution_count": 0,
      "outputs": []
    },
    {
      "cell_type": "code",
      "metadata": {
        "id": "nc5A2YQD2n2W",
        "colab_type": "code",
        "colab": {
          "base_uri": "https://localhost:8080/",
          "height": 71
        },
        "outputId": "717fc2b7-9699-4c9f-c198-788a0ee0d422"
      },
      "source": [
        "print('Number of categories: ', len(all_categories.keys()))\n",
        "print('Categories: ', all_categories_names)"
      ],
      "execution_count": 37,
      "outputs": [
        {
          "output_type": "stream",
          "text": [
            "Number of categories:  18\n",
            "Categories:  ['portuguese', 'scottish', 'polish', 'english', 'chinese', 'greek', 'russian', 'italian', 'spanish', 'arabic', 'japanese', 'korean', 'dutch', 'german', 'vietnamese', 'czech', 'irish', 'french']\n"
          ],
          "name": "stdout"
        }
      ]
    },
    {
      "cell_type": "code",
      "metadata": {
        "id": "IFywb29WYrSy",
        "colab_type": "code",
        "outputId": "50ba618b-e2ba-4b40-df20-79596e70b880",
        "colab": {
          "base_uri": "https://localhost:8080/",
          "height": 187
        }
      },
      "source": [
        "all_categories['arabic'][:10]"
      ],
      "execution_count": 6,
      "outputs": [
        {
          "output_type": "execute_result",
          "data": {
            "text/plain": [
              "['Khoury',\n",
              " 'Nahas',\n",
              " 'Daher',\n",
              " 'Gerges',\n",
              " 'Nazari',\n",
              " 'Maalouf',\n",
              " 'Gerges',\n",
              " 'Naifeh',\n",
              " 'Guirguis',\n",
              " 'Baba']"
            ]
          },
          "metadata": {
            "tags": []
          },
          "execution_count": 6
        }
      ]
    },
    {
      "cell_type": "markdown",
      "metadata": {
        "id": "iGH3i-SaVPki",
        "colab_type": "text"
      },
      "source": [
        "## Model"
      ]
    },
    {
      "cell_type": "code",
      "metadata": {
        "id": "MAdgQ0pQVWCR",
        "colab_type": "code",
        "colab": {}
      },
      "source": [
        "class RNN(nn.Module):\n",
        "  def __init__(self, embeding_size, hidden_size, n_cat):\n",
        "    super(RNN, self).__init__()\n",
        "    self.i2h = nn.Linear(embeding_size+hidden_size, hidden_size)\n",
        "    self.i2o = nn.Linear(embeding_size+hidden_size, n_cat)\n",
        "    self.sf = nn.LogSoftmax(dim=1)\n",
        "  \n",
        "  def forward(self, input, hidden):\n",
        "    input = torch.cat((input,hidden), 1)\n",
        "    hidden = self.i2h(input)\n",
        "    output = self.i2o(input)\n",
        "    output = self.sf(output) \n",
        "    \n",
        "    return hidden, output\n"
      ],
      "execution_count": 0,
      "outputs": []
    },
    {
      "cell_type": "code",
      "metadata": {
        "id": "Xv2JrZgszUUz",
        "colab_type": "code",
        "colab": {}
      },
      "source": [
        "rnn = RNN(n_letters, hidden_size, n_categories)"
      ],
      "execution_count": 0,
      "outputs": []
    },
    {
      "cell_type": "markdown",
      "metadata": {
        "id": "Zc605LoAVW2U",
        "colab_type": "text"
      },
      "source": [
        "## Train"
      ]
    },
    {
      "cell_type": "code",
      "metadata": {
        "id": "kT5LV8vRVZfs",
        "colab_type": "code",
        "colab": {}
      },
      "source": [
        "#From category to tensor\n",
        "def category2tensor(category):\n",
        "  return torch.tensor([list(all_categories.keys()).index(category)], dtype=torch.long)\n",
        "\n",
        "#From name (string) for tensor(len(name)*1*n_letters)\n",
        "def indexLetter(letter):\n",
        "  return all_letters.index(letter)\n",
        "\n",
        "def name2tensor(name):\n",
        "  result = torch.zeros(len(name),1,n_letters)\n",
        "  for i, l in enumerate(name):\n",
        "    result[i][0][indexLetter(l)] = 1\n",
        "  return result\n",
        "\n",
        "#Function to getting random ietm(tensor with name and category)\n",
        "def getRandomSample():\n",
        "  category = random.choice(all_categories_names)\n",
        "  name = all_categories[category][random.randint(0, len(all_categories[category])-1)]\n",
        "  return category, name\n",
        "\n",
        "# From output (n_categories vector with prod) get id_category, name of category\n",
        "def categoryFromOutput(output):\n",
        "  top_n, top_i = output.topk(1)\n",
        "  category_i = top_i[0].item()\n",
        "  return all_categories_names[category_i], category_i\n",
        "\n",
        "#Run train/store/print loss\n",
        "lr = 0.005\n",
        "def train(category, name):\n",
        "  tensor_category = category2tensor(category)\n",
        "  tensor_name = name2tensor(name)\n",
        "  \n",
        "  rnn.zero_grad()\n",
        "  \n",
        "  hidden = torch.zeros(1, hidden_size)\n",
        "  for i in range(tensor_name.shape[0]):\n",
        "    hidden, output = rnn(tensor_name[i], hidden)\n",
        "\n",
        "  loss = loss_fn(output, tensor_category)\n",
        "  loss.backward()\n",
        "\n",
        "  for p in rnn.parameters():\n",
        "    p.data.add_(-lr, p.grad.data)\n",
        "  \n",
        "  return hidden, output, loss, tensor_category\n"
      ],
      "execution_count": 0,
      "outputs": []
    },
    {
      "cell_type": "code",
      "metadata": {
        "id": "oclu6hrueVt-",
        "colab_type": "code",
        "outputId": "4e84abc1-673c-4159-9752-0f2f6c33ab20",
        "colab": {
          "base_uri": "https://localhost:8080/",
          "height": 68
        }
      },
      "source": [
        "hidden = torch.zeros(1, hidden_size)\n",
        "input = name2tensor('Denys')\n",
        "hidden, output = rnn(input[0], hidden)\n",
        "print('output.shape: ', output.shape)\n",
        "print('hidden.shape: ', hidden.shape)\n",
        "categoryFromOutput(output)"
      ],
      "execution_count": 49,
      "outputs": [
        {
          "output_type": "stream",
          "text": [
            "output.shape:  torch.Size([1, 18])\n",
            "hidden.shape:  torch.Size([1, 128])\n"
          ],
          "name": "stdout"
        },
        {
          "output_type": "execute_result",
          "data": {
            "text/plain": [
              "('german', 13)"
            ]
          },
          "metadata": {
            "tags": []
          },
          "execution_count": 49
        }
      ]
    },
    {
      "cell_type": "code",
      "metadata": {
        "id": "9dAV9PFq4sT0",
        "colab_type": "code",
        "colab": {
          "base_uri": "https://localhost:8080/",
          "height": 187
        },
        "outputId": "1d88d224-0df3-440c-f734-f2b00d2b2cc2"
      },
      "source": [
        "for _ in range(10):\n",
        "  print(getRandomSample())"
      ],
      "execution_count": 54,
      "outputs": [
        {
          "output_type": "stream",
          "text": [
            "('italian', 'Marmo')\n",
            "('scottish', 'Gordon')\n",
            "('spanish', 'Pavia')\n",
            "('italian', 'Tamboia')\n",
            "('arabic', 'Handal')\n",
            "('czech', 'Pellar')\n",
            "('scottish', 'Millar')\n",
            "('english', 'Bishop')\n",
            "('portuguese', 'Gouveia')\n",
            "('french', 'Charron')\n"
          ],
          "name": "stdout"
        }
      ]
    },
    {
      "cell_type": "code",
      "metadata": {
        "id": "9HRTmxwq-y6w",
        "colab_type": "code",
        "colab": {
          "base_uri": "https://localhost:8080/",
          "height": 34
        },
        "outputId": "cc072a51-90ac-46e8-aed4-afdc21ffe8d8"
      },
      "source": [
        "int('aa' == 'aa1')"
      ],
      "execution_count": 81,
      "outputs": [
        {
          "output_type": "execute_result",
          "data": {
            "text/plain": [
              "0"
            ]
          },
          "metadata": {
            "tags": []
          },
          "execution_count": 81
        }
      ]
    },
    {
      "cell_type": "code",
      "metadata": {
        "id": "AAVVBCye65MU",
        "colab_type": "code",
        "colab": {
          "base_uri": "https://localhost:8080/",
          "height": 187
        },
        "outputId": "806c012a-bbcd-4575-9cec-59cc730daef0"
      },
      "source": [
        "#rnn = RNN(n_letters, hidden_size, n_categories)\n",
        "n_iteration = 100000\n",
        "print_every=10000\n",
        "all_loss = 0\n",
        "train_info = {0:0, 1:0, 'all':0}\n",
        "loss_fn = nn.NLLLoss()\n",
        "for i in range(n_iteration):\n",
        "  category, name  = getRandomSample()\n",
        "  hidden, output, loss,tensor_category = train(category, name)\n",
        "  pred_category, pred_category_id = categoryFromOutput(output)\n",
        "  train_info[int(pred_category == category)] += 1\n",
        "  train_info['all'] += 1\n",
        "  all_loss += loss\n",
        "  if i % print_every == 0:\n",
        "    print(\"Loss [iter: %d]: %.3f. Acc: %.3f\"%(i, all_loss/print_every, train_info[1]/train_info['all']))\n",
        "    all_loss = 0"
      ],
      "execution_count": 103,
      "outputs": [
        {
          "output_type": "stream",
          "text": [
            "Loss [iter: 0]: 0.000. Acc: 1.000\n",
            "Loss [iter: 10000]: 1.265. Acc: 0.598\n",
            "Loss [iter: 20000]: 1.265. Acc: 0.601\n",
            "Loss [iter: 30000]: 1.242. Acc: 0.600\n",
            "Loss [iter: 40000]: 1.237. Acc: 0.602\n",
            "Loss [iter: 50000]: 1.200. Acc: 0.606\n",
            "Loss [iter: 60000]: 1.226. Acc: 0.605\n",
            "Loss [iter: 70000]: 1.185. Acc: 0.608\n",
            "Loss [iter: 80000]: 1.183. Acc: 0.609\n",
            "Loss [iter: 90000]: 1.172. Acc: 0.611\n"
          ],
          "name": "stdout"
        }
      ]
    },
    {
      "cell_type": "markdown",
      "metadata": {
        "id": "oXJ8DYxXVaAf",
        "colab_type": "text"
      },
      "source": [
        "## Evaluate"
      ]
    },
    {
      "cell_type": "code",
      "metadata": {
        "id": "4HsymtC9Vbxq",
        "colab_type": "code",
        "colab": {}
      },
      "source": [
        "#Evaluate model. Build confusion matrix\n",
        "def evaluate(category, name):\n",
        "  tensor_category = category2tensor(category)\n",
        "  tensor_name = name2tensor(name)\n",
        "  with torch.no_grad():\n",
        "    hidden = torch.zeros(1, hidden_size)\n",
        "    for i in range(tensor_name.shape[0]):\n",
        "      hidden, output = rnn(tensor_name[i], hidden)\n",
        "  return hidden, output"
      ],
      "execution_count": 0,
      "outputs": []
    },
    {
      "cell_type": "code",
      "metadata": {
        "id": "W_nw38ogWNIV",
        "colab_type": "code",
        "colab": {}
      },
      "source": [
        "n_iteration = 10000\n",
        "conf_matrix = torch.zeros((n_categories, n_categories))\n",
        "for _ in range(n_iteration):\n",
        "  category, name  = getRandomSample()\n",
        "  hidden, output = evaluate(category, name)\n",
        "  pred_category, pred_category_id = categoryFromOutput(output)\n",
        "  conf_matrix[all_categories_names.index(category), pred_category_id] +=1"
      ],
      "execution_count": 0,
      "outputs": []
    },
    {
      "cell_type": "code",
      "metadata": {
        "id": "MwgmRMqsImhC",
        "colab_type": "code",
        "colab": {}
      },
      "source": [
        "def print_conf_matrix(confusion):\n",
        "  # Normalize by dividing every row by its sum\n",
        "  for i in range(n_categories):\n",
        "      confusion[i] = confusion[i] / confusion[i].sum()\n",
        "\n",
        "  # Set up plot\n",
        "  fig = plt.figure()\n",
        "  ax = fig.add_subplot(111)\n",
        "  cax = ax.matshow(confusion.numpy())\n",
        "  fig.colorbar(cax)\n",
        "\n",
        "  # Set up axes\n",
        "  ax.set_xticklabels([''] + all_categories_names, rotation=90)\n",
        "  ax.set_yticklabels([''] + all_categories_names)\n",
        "\n",
        "  # Force label at every tick\n",
        "  ax.xaxis.set_major_locator(ticker.MultipleLocator(1))\n",
        "  ax.yaxis.set_major_locator(ticker.MultipleLocator(1))\n",
        "\n",
        "  # sphinx_gallery_thumbnail_number = 2\n",
        "  plt.show()"
      ],
      "execution_count": 0,
      "outputs": []
    },
    {
      "cell_type": "code",
      "metadata": {
        "id": "jYflmmMJJSBp",
        "colab_type": "code",
        "colab": {
          "base_uri": "https://localhost:8080/",
          "height": 320
        },
        "outputId": "e26b8c4a-8095-4e0b-9e45-90dbb70ff3b2"
      },
      "source": [
        "print_conf_matrix(conf_matrix)"
      ],
      "execution_count": 116,
      "outputs": [
        {
          "output_type": "display_data",
          "data": {
            "image/png": "[encoded data removed]",
            "text/plain": [
              "<Figure size 432x288 with 2 Axes>"
            ]
          },
          "metadata": {
            "tags": []
          }
        }
      ]
    },
    {
      "cell_type": "code",
      "metadata": {
        "id": "HhT4Psu7Jc7b",
        "colab_type": "code",
        "colab": {}
      },
      "source": [
        "def predict(name, k=3):\n",
        "  tensor_name = name2tensor(name)\n",
        "  with torch.no_grad():\n",
        "    hidden = torch.zeros(1, hidden_size)\n",
        "    for i in range(tensor_name.shape[0]):\n",
        "      hidden, output = rnn(tensor_name[i], hidden)\n",
        "    top_ns, top_is = output.topk(k)\n",
        "  for i in range(k):\n",
        "    print(all_categories_names[top_is[0][i]])  \n"
      ],
      "execution_count": 0,
      "outputs": []
    },
    {
      "cell_type": "code",
      "metadata": {
        "id": "fAPP2e04Kk84",
        "colab_type": "code",
        "colab": {
          "base_uri": "https://localhost:8080/",
          "height": 68
        },
        "outputId": "e13817ed-0d17-4c39-8416-bb0a2fb2b528"
      },
      "source": [
        "predict('Clinton')"
      ],
      "execution_count": 145,
      "outputs": [
        {
          "output_type": "stream",
          "text": [
            "english\n",
            "french\n",
            "spanish\n"
          ],
          "name": "stdout"
        }
      ]
    }
  ]
}