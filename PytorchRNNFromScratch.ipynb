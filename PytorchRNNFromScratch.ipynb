{
  "nbformat": 4,
  "nbformat_minor": 0,
  "metadata": {
    "colab": {
      "name": "PytorchRNNFromScratch.ipynb",
      "provenance": [],
      "collapsed_sections": [],
      "authorship_tag": "ABX9TyP45chSO4i+vmgcrlp83j55",
      "include_colab_link": true
    },
    "kernelspec": {
      "name": "python3",
      "display_name": "Python 3"
    },
    "accelerator": "GPU"
  },
  "cells": [
    {
      "cell_type": "markdown",
      "metadata": {
        "id": "view-in-github",
        "colab_type": "text"
      },
      "source": [
        "<a href=\"https://colab.research.google.com/github/DenisOgr/kaggle-experiments/blob/master/PytorchRNNFromScratch.ipynb\" target=\"_parent\"><img src=\"https://colab.research.google.com/assets/colab-badge.svg\" alt=\"Open In Colab\"/></a>"
      ]
    },
    {
      "cell_type": "code",
      "metadata": {
        "id": "Z2NoHTRYVOHR",
        "colab_type": "code",
        "colab": {}
      },
      "source": [
        "import glob\n",
        "import os\n",
        "import unicodedata\n",
        "import string\n",
        "import torch\n",
        "from torch import nn\n",
        "import random\n",
        "import matplotlib.pyplot as plt\n",
        "import matplotlib.ticker as ticker\n"
      ],
      "execution_count": 0,
      "outputs": []
    },
    {
      "cell_type": "markdown",
      "metadata": {
        "id": "ppTIg7NVVLQt",
        "colab_type": "text"
      },
      "source": [
        "## Data"
      ]
    },
    {
      "cell_type": "code",
      "metadata": {
        "id": "HgxXa59FVdR8",
        "colab_type": "code",
        "colab": {}
      },
      "source": [
        "#Download\n",
        "#Read to dict (lang: list of names). Converted to ASCII"
      ],
      "execution_count": 0,
      "outputs": []
    },
    {
      "cell_type": "code",
      "metadata": {
        "id": "iWFvTXzuWTJH",
        "colab_type": "code",
        "colab": {
          "base_uri": "https://localhost:8080/",
          "height": 561
        },
        "outputId": "3d5a7ff4-a3f1-4621-bf64-32e36f7d36c1"
      },
      "source": [
        "!mkdir /content/data\n",
        "!wget https://download.pytorch.org/tutorial/data.zip -P /content/data\n",
        "!unzip -o -d /content/data/ /content/data/data.zip "
      ],
      "execution_count": 11,
      "outputs": [
        {
          "output_type": "stream",
          "text": [
            "mkdir: cannot create directory ‘/content/data’: File exists\n",
            "--2020-03-01 16:11:30--  https://download.pytorch.org/tutorial/data.zip\n",
            "Resolving download.pytorch.org (download.pytorch.org)... 99.84.168.83, 99.84.168.27, 99.84.168.110, ...\n",
            "Connecting to download.pytorch.org (download.pytorch.org)|99.84.168.83|:443... connected.\n",
            "HTTP request sent, awaiting response... 200 OK\n",
            "Length: 2882130 (2.7M) [application/zip]\n",
            "Saving to: ‘/content/data/data.zip.1’\n",
            "\n",
            "data.zip.1          100%[===================>]   2.75M  --.-KB/s    in 0.1s    \n",
            "\n",
            "2020-03-01 16:11:31 (18.4 MB/s) - ‘/content/data/data.zip.1’ saved [2882130/2882130]\n",
            "\n",
            "Archive:  /content/data/data.zip\n",
            "  inflating: /content/data/data/eng-fra.txt  \n",
            "  inflating: /content/data/data/names/Arabic.txt  \n",
            "  inflating: /content/data/data/names/Chinese.txt  \n",
            "  inflating: /content/data/data/names/Czech.txt  \n",
            "  inflating: /content/data/data/names/Dutch.txt  \n",
            "  inflating: /content/data/data/names/English.txt  \n",
            "  inflating: /content/data/data/names/French.txt  \n",
            "  inflating: /content/data/data/names/German.txt  \n",
            "  inflating: /content/data/data/names/Greek.txt  \n",
            "  inflating: /content/data/data/names/Irish.txt  \n",
            "  inflating: /content/data/data/names/Italian.txt  \n",
            "  inflating: /content/data/data/names/Japanese.txt  \n",
            "  inflating: /content/data/data/names/Korean.txt  \n",
            "  inflating: /content/data/data/names/Polish.txt  \n",
            "  inflating: /content/data/data/names/Portuguese.txt  \n",
            "  inflating: /content/data/data/names/Russian.txt  \n",
            "  inflating: /content/data/data/names/Scottish.txt  \n",
            "  inflating: /content/data/data/names/Spanish.txt  \n",
            "  inflating: /content/data/data/names/Vietnamese.txt  \n"
          ],
          "name": "stdout"
        }
      ]
    },
    {
      "cell_type": "code",
      "metadata": {
        "id": "Owf8RgO_XfQM",
        "colab_type": "code",
        "colab": {}
      },
      "source": [
        "all_letters = string.ascii_letters + \" .,;'\"\n",
        "n_letters = len(all_letters)\n",
        "\n",
        "def unicodeToAscii(s):\n",
        "    return ''.join(\n",
        "        c for c in unicodedata.normalize('NFD', s)\n",
        "        if unicodedata.category(c) != 'Mn'\n",
        "        and c in all_letters\n",
        "    )\n",
        "def files_to_dataset(path_to_files): \n",
        "  all_categories = {}   \n",
        "  for file in glob.glob(path_to_files):\n",
        "    cat = os.path.basename(file).split('.')[0].lower()\n",
        "    list_of_names = [unicodeToAscii(line.rstrip()) for line in open(file).readlines()]\n",
        "    all_categories[cat] = list_of_names\n",
        "  return all_categories\n",
        "\n",
        "all_categories = files_to_dataset('/content/data/data/names/*')\n",
        "all_categories_names = list(all_categories.keys())\n",
        "hidden_size=128\n",
        "n_categories = len(all_categories_names)"
      ],
      "execution_count": 0,
      "outputs": []
    },
    {
      "cell_type": "code",
      "metadata": {
        "id": "nc5A2YQD2n2W",
        "colab_type": "code",
        "outputId": "d97c8a98-98e3-4eff-cda8-3315d05de4cf",
        "colab": {
          "base_uri": "https://localhost:8080/",
          "height": 71
        }
      },
      "source": [
        "print('Number of categories: ', len(all_categories.keys()))\n",
        "print('Categories: ', all_categories_names)"
      ],
      "execution_count": 13,
      "outputs": [
        {
          "output_type": "stream",
          "text": [
            "Number of categories:  18\n",
            "Categories:  ['portuguese', 'scottish', 'polish', 'english', 'chinese', 'greek', 'russian', 'italian', 'spanish', 'arabic', 'japanese', 'korean', 'dutch', 'german', 'vietnamese', 'czech', 'irish', 'french']\n"
          ],
          "name": "stdout"
        }
      ]
    },
    {
      "cell_type": "code",
      "metadata": {
        "id": "knvxzXNM3jLK",
        "colab_type": "code",
        "colab": {
          "base_uri": "https://localhost:8080/",
          "height": 34
        },
        "outputId": "1f8b6320-7d19-4023-a2e3-33ca58da396e"
      },
      "source": [
        "len(all_categories['german'])"
      ],
      "execution_count": 25,
      "outputs": [
        {
          "output_type": "execute_result",
          "data": {
            "text/plain": [
              "724"
            ]
          },
          "metadata": {
            "tags": []
          },
          "execution_count": 25
        }
      ]
    },
    {
      "cell_type": "code",
      "metadata": {
        "id": "IFywb29WYrSy",
        "colab_type": "code",
        "outputId": "50ba618b-e2ba-4b40-df20-79596e70b880",
        "colab": {
          "base_uri": "https://localhost:8080/",
          "height": 187
        }
      },
      "source": [
        "all_categories['arabic'][:10]"
      ],
      "execution_count": 0,
      "outputs": [
        {
          "output_type": "execute_result",
          "data": {
            "text/plain": [
              "['Khoury',\n",
              " 'Nahas',\n",
              " 'Daher',\n",
              " 'Gerges',\n",
              " 'Nazari',\n",
              " 'Maalouf',\n",
              " 'Gerges',\n",
              " 'Naifeh',\n",
              " 'Guirguis',\n",
              " 'Baba']"
            ]
          },
          "metadata": {
            "tags": []
          },
          "execution_count": 6
        }
      ]
    },
    {
      "cell_type": "markdown",
      "metadata": {
        "id": "Z-vHbTEGvJom",
        "colab_type": "text"
      },
      "source": [
        "###### Other dataset (words)"
      ]
    },
    {
      "cell_type": "code",
      "metadata": {
        "id": "RT8QTkZ5vcMW",
        "colab_type": "code",
        "colab": {
          "base_uri": "https://localhost:8080/",
          "height": 119
        },
        "outputId": "57e5a515-6879-4530-8b21-fea5c67b783a"
      },
      "source": [
        "!git clone https://github.com/DenisOgr/pytorch-dataset-lang-words.git\n"
      ],
      "execution_count": 26,
      "outputs": [
        {
          "output_type": "stream",
          "text": [
            "Cloning into 'pytorch-dataset-lang-words'...\n",
            "remote: Enumerating objects: 19, done.\u001b[K\n",
            "remote: Counting objects: 100% (19/19), done.\u001b[K\n",
            "remote: Compressing objects: 100% (18/18), done.\u001b[K\n",
            "remote: Total 19 (delta 0), reused 19 (delta 0), pack-reused 0\u001b[K\n",
            "Unpacking objects: 100% (19/19), done.\n"
          ],
          "name": "stdout"
        }
      ]
    },
    {
      "cell_type": "code",
      "metadata": {
        "id": "Pll_t2dQvIus",
        "colab_type": "code",
        "colab": {}
      },
      "source": [
        "all_categories = files_to_dataset('/content/pytorch-dataset-lang-words/results_2000/_*')\n",
        "all_categories_names = list(all_categories.keys())\n",
        "hidden_size=128\n",
        "n_categories = len(all_categories_names)"
      ],
      "execution_count": 0,
      "outputs": []
    },
    {
      "cell_type": "code",
      "metadata": {
        "id": "IPJiJSOb-P5P",
        "colab_type": "code",
        "colab": {
          "base_uri": "https://localhost:8080/",
          "height": 102
        },
        "outputId": "bdad4e56-d6fd-4285-ad1f-3684c44f78a9"
      },
      "source": [
        "all_categories['_german'][:5]"
      ],
      "execution_count": 32,
      "outputs": [
        {
          "output_type": "execute_result",
          "data": {
            "text/plain": [
              "['erforderst',\n",
              " 'nachfliegendes',\n",
              " 'zwanglosestes',\n",
              " 'fliegenschrankes',\n",
              " 'schutzgebiets']"
            ]
          },
          "metadata": {
            "tags": []
          },
          "execution_count": 32
        }
      ]
    },
    {
      "cell_type": "markdown",
      "metadata": {
        "id": "iGH3i-SaVPki",
        "colab_type": "text"
      },
      "source": [
        "## Model"
      ]
    },
    {
      "cell_type": "code",
      "metadata": {
        "id": "MAdgQ0pQVWCR",
        "colab_type": "code",
        "colab": {}
      },
      "source": [
        "class RNN(nn.Module):\n",
        "  def __init__(self, embeding_size, hidden_size, n_cat):\n",
        "    super(RNN, self).__init__()\n",
        "    self.i2h = nn.Linear(embeding_size+hidden_size, hidden_size)\n",
        "    self.i2o = nn.Linear(embeding_size+hidden_size, n_cat)\n",
        "    self.sf = nn.LogSoftmax(dim=1)\n",
        "  \n",
        "  def forward(self, input, hidden):\n",
        "    input = torch.cat((input,hidden), 1)\n",
        "    hidden = self.i2h(input)\n",
        "    output = self.i2o(input)\n",
        "    output = self.sf(output) \n",
        "    \n",
        "    return hidden, output\n"
      ],
      "execution_count": 0,
      "outputs": []
    },
    {
      "cell_type": "code",
      "metadata": {
        "id": "Xv2JrZgszUUz",
        "colab_type": "code",
        "colab": {}
      },
      "source": [
        "rnn = RNN(n_letters, hidden_size, n_categories)"
      ],
      "execution_count": 0,
      "outputs": []
    },
    {
      "cell_type": "markdown",
      "metadata": {
        "id": "Zc605LoAVW2U",
        "colab_type": "text"
      },
      "source": [
        "## Train"
      ]
    },
    {
      "cell_type": "code",
      "metadata": {
        "id": "kT5LV8vRVZfs",
        "colab_type": "code",
        "colab": {}
      },
      "source": [
        "#From category to tensor\n",
        "def category2tensor(category):\n",
        "  return torch.tensor([list(all_categories.keys()).index(category)], dtype=torch.long)\n",
        "\n",
        "#From name (string) for tensor(len(name)*1*n_letters)\n",
        "def indexLetter(letter):\n",
        "  return all_letters.index(letter)\n",
        "\n",
        "def name2tensor(name):\n",
        "  result = torch.zeros(len(name),1,n_letters)\n",
        "  for i, l in enumerate(name):\n",
        "    result[i][0][indexLetter(l)] = 1\n",
        "  return result\n",
        "\n",
        "#Function to getting random ietm(tensor with name and category)\n",
        "def getRandomSample():\n",
        "  category = random.choice(all_categories_names)\n",
        "  name = all_categories[category][random.randint(0, len(all_categories[category])-1)]\n",
        "  return category, name\n",
        "\n",
        "# From output (n_categories vector with prod) get id_category, name of category\n",
        "def categoryFromOutput(output):\n",
        "  top_n, top_i = output.topk(1)\n",
        "  category_i = top_i[0].item()\n",
        "  return all_categories_names[category_i], category_i\n",
        "\n",
        "#Run train/store/print loss\n",
        "lr = 0.005\n",
        "def train(category, name):\n",
        "  tensor_category = category2tensor(category)\n",
        "  tensor_name = name2tensor(name)\n",
        "  \n",
        "  rnn.zero_grad()\n",
        "  \n",
        "  hidden = torch.zeros(1, hidden_size)\n",
        "  for i in range(tensor_name.shape[0]):\n",
        "    hidden, output = rnn(tensor_name[i], hidden)\n",
        "\n",
        "  loss = loss_fn(output, tensor_category)\n",
        "  loss.backward()\n",
        "\n",
        "  for p in rnn.parameters():\n",
        "    p.data.add_(-lr, p.grad.data)\n",
        "  \n",
        "  return hidden, output, loss, tensor_category\n"
      ],
      "execution_count": 0,
      "outputs": []
    },
    {
      "cell_type": "code",
      "metadata": {
        "id": "oclu6hrueVt-",
        "colab_type": "code",
        "outputId": "4e84abc1-673c-4159-9752-0f2f6c33ab20",
        "colab": {
          "base_uri": "https://localhost:8080/",
          "height": 68
        }
      },
      "source": [
        "hidden = torch.zeros(1, hidden_size)\n",
        "input = name2tensor('Denys')\n",
        "hidden, output = rnn(input[0], hidden)\n",
        "print('output.shape: ', output.shape)\n",
        "print('hidden.shape: ', hidden.shape)\n",
        "categoryFromOutput(output)"
      ],
      "execution_count": 0,
      "outputs": [
        {
          "output_type": "stream",
          "text": [
            "output.shape:  torch.Size([1, 18])\n",
            "hidden.shape:  torch.Size([1, 128])\n"
          ],
          "name": "stdout"
        },
        {
          "output_type": "execute_result",
          "data": {
            "text/plain": [
              "('german', 13)"
            ]
          },
          "metadata": {
            "tags": []
          },
          "execution_count": 49
        }
      ]
    },
    {
      "cell_type": "code",
      "metadata": {
        "id": "9dAV9PFq4sT0",
        "colab_type": "code",
        "outputId": "e29969c2-8f25-4f02-e3e0-bab54d953e53",
        "colab": {
          "base_uri": "https://localhost:8080/",
          "height": 187
        }
      },
      "source": [
        "for _ in range(10):\n",
        "  print(getRandomSample())"
      ],
      "execution_count": 36,
      "outputs": [
        {
          "output_type": "stream",
          "text": [
            "('_dutch', 'nevenproduct')\n",
            "('_eng', 'feet')\n",
            "('_german', 'geschweit')\n",
            "('_italian', 'ricamer')\n",
            "('_eng', 'background')\n",
            "('_dutch', 'dragers')\n",
            "('_norwegian', 'bind')\n",
            "('_norwegian', 'divergenser')\n",
            "('_dutch', 'vliering')\n",
            "('_italian', 'fotocopio')\n"
          ],
          "name": "stdout"
        }
      ]
    },
    {
      "cell_type": "code",
      "metadata": {
        "id": "AAVVBCye65MU",
        "colab_type": "code",
        "outputId": "66ad1e18-afdf-45f0-c811-f666ca76102e",
        "colab": {
          "base_uri": "https://localhost:8080/",
          "height": 187
        }
      },
      "source": [
        "#rnn = RNN(n_letters, hidden_size, n_categories)\n",
        "n_iteration = 100000\n",
        "print_every=10000\n",
        "all_loss = 0\n",
        "train_info = {0:0, 1:0, 'all':0}\n",
        "loss_fn = nn.NLLLoss()\n",
        "for i in range(n_iteration):\n",
        "  category, name  = getRandomSample()\n",
        "  hidden, output, loss,tensor_category = train(category, name)\n",
        "  pred_category, pred_category_id = categoryFromOutput(output)\n",
        "  train_info[int(pred_category == category)] += 1\n",
        "  train_info['all'] += 1\n",
        "  all_loss += loss\n",
        "  if i % print_every == 0:\n",
        "    print(\"Loss [iter: %d]: %.3f. Acc: %.3f\"%(i, all_loss/print_every, train_info[1]/train_info['all']))\n",
        "    all_loss = 0"
      ],
      "execution_count": 38,
      "outputs": [
        {
          "output_type": "stream",
          "text": [
            "Loss [iter: 0]: 0.000. Acc: 1.000\n",
            "Loss [iter: 10000]: 1.108. Acc: 0.593\n",
            "Loss [iter: 20000]: 1.138. Acc: 0.585\n",
            "Loss [iter: 30000]: 1.099. Acc: 0.587\n",
            "Loss [iter: 40000]: 1.107. Acc: 0.587\n",
            "Loss [iter: 50000]: 1.095. Acc: 0.589\n",
            "Loss [iter: 60000]: 1.102. Acc: 0.588\n",
            "Loss [iter: 70000]: 1.090. Acc: 0.589\n",
            "Loss [iter: 80000]: 1.101. Acc: 0.589\n",
            "Loss [iter: 90000]: 1.100. Acc: 0.589\n"
          ],
          "name": "stdout"
        }
      ]
    },
    {
      "cell_type": "markdown",
      "metadata": {
        "id": "oXJ8DYxXVaAf",
        "colab_type": "text"
      },
      "source": [
        "## Evaluate"
      ]
    },
    {
      "cell_type": "code",
      "metadata": {
        "id": "4HsymtC9Vbxq",
        "colab_type": "code",
        "colab": {}
      },
      "source": [
        "#Evaluate model. Build confusion matrix\n",
        "def evaluate(category, name):\n",
        "  tensor_category = category2tensor(category)\n",
        "  tensor_name = name2tensor(name)\n",
        "  with torch.no_grad():\n",
        "    hidden = torch.zeros(1, hidden_size)\n",
        "    for i in range(tensor_name.shape[0]):\n",
        "      hidden, output = rnn(tensor_name[i], hidden)\n",
        "  return hidden, output"
      ],
      "execution_count": 0,
      "outputs": []
    },
    {
      "cell_type": "code",
      "metadata": {
        "id": "W_nw38ogWNIV",
        "colab_type": "code",
        "colab": {}
      },
      "source": [
        "n_iteration = 10000\n",
        "conf_matrix = torch.zeros((n_categories, n_categories))\n",
        "for _ in range(n_iteration):\n",
        "  category, name  = getRandomSample()\n",
        "  hidden, output = evaluate(category, name)\n",
        "  pred_category, pred_category_id = categoryFromOutput(output)\n",
        "  conf_matrix[all_categories_names.index(category), pred_category_id] +=1"
      ],
      "execution_count": 0,
      "outputs": []
    },
    {
      "cell_type": "code",
      "metadata": {
        "id": "MwgmRMqsImhC",
        "colab_type": "code",
        "colab": {}
      },
      "source": [
        "def print_conf_matrix(confusion):\n",
        "  # Normalize by dividing every row by its sum\n",
        "  for i in range(n_categories):\n",
        "      confusion[i] = confusion[i] / confusion[i].sum()\n",
        "\n",
        "  # Set up plot\n",
        "  fig = plt.figure()\n",
        "  ax = fig.add_subplot(111)\n",
        "  cax = ax.matshow(confusion.numpy())\n",
        "  fig.colorbar(cax)\n",
        "\n",
        "  # Set up axes\n",
        "  ax.set_xticklabels([''] + all_categories_names, rotation=90)\n",
        "  ax.set_yticklabels([''] + all_categories_names)\n",
        "\n",
        "  # Force label at every tick\n",
        "  ax.xaxis.set_major_locator(ticker.MultipleLocator(1))\n",
        "  ax.yaxis.set_major_locator(ticker.MultipleLocator(1))\n",
        "\n",
        "  # sphinx_gallery_thumbnail_number = 2\n",
        "  plt.show()"
      ],
      "execution_count": 0,
      "outputs": []
    },
    {
      "cell_type": "code",
      "metadata": {
        "id": "jYflmmMJJSBp",
        "colab_type": "code",
        "outputId": "81f334f5-7ded-48c0-8049-2314ef43214a",
        "colab": {
          "base_uri": "https://localhost:8080/",
          "height": 316
        }
      },
      "source": [
        "print_conf_matrix(conf_matrix)"
      ],
      "execution_count": 42,
      "outputs": [
        {
          "output_type": "display_data",
          "data": {
            "image/png": "[encoded data removed]",
            "text/plain": [
              "<Figure size 432x288 with 2 Axes>"
            ]
          },
          "metadata": {
            "tags": []
          }
        }
      ]
    },
    {
      "cell_type": "code",
      "metadata": {
        "id": "HhT4Psu7Jc7b",
        "colab_type": "code",
        "colab": {}
      },
      "source": [
        "def predict(name, k=3):\n",
        "  tensor_name = name2tensor(name)\n",
        "  with torch.no_grad():\n",
        "    hidden = torch.zeros(1, hidden_size)\n",
        "    for i in range(tensor_name.shape[0]):\n",
        "      hidden, output = rnn(tensor_name[i], hidden)\n",
        "    top_ns, top_is = output.topk(k)\n",
        "  for i in range(k):\n",
        "    print(all_categories_names[top_is[0][i]])  \n"
      ],
      "execution_count": 0,
      "outputs": []
    },
    {
      "cell_type": "code",
      "metadata": {
        "id": "fAPP2e04Kk84",
        "colab_type": "code",
        "outputId": "bb1685a2-4e90-4a0d-c186-e612d498ed3f",
        "colab": {
          "base_uri": "https://localhost:8080/",
          "height": 68
        }
      },
      "source": [
        "predict('datando')"
      ],
      "execution_count": 47,
      "outputs": [
        {
          "output_type": "stream",
          "text": [
            "_spanish\n",
            "_italian\n",
            "_dutch\n"
          ],
          "name": "stdout"
        }
      ]
    }
  ]
}