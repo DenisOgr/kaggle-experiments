{
  "nbformat": 4,
  "nbformat_minor": 0,
  "metadata": {
    "colab": {
      "name": "Pytorch60min.ipynb",
      "provenance": [],
      "collapsed_sections": [],
      "authorship_tag": "ABX9TyOMRzi+LEvudyrA0bOUj+05",
      "include_colab_link": true
    },
    "kernelspec": {
      "name": "python3",
      "display_name": "Python 3"
    },
    "accelerator": "GPU"
  },
  "cells": [
    {
      "cell_type": "markdown",
      "metadata": {
        "id": "view-in-github",
        "colab_type": "text"
      },
      "source": [
        "<a href=\"https://colab.research.google.com/github/DenisOgr/kaggle-experiments/blob/master/Pytorch60min.ipynb\" target=\"_parent\"><img src=\"https://colab.research.google.com/assets/colab-badge.svg\" alt=\"Open In Colab\"/></a>"
      ]
    },
    {
      "cell_type": "code",
      "metadata": {
        "id": "EJBsAT1FmL1c",
        "colab_type": "code",
        "colab": {}
      },
      "source": [
        "import torch\n",
        "import torch.nn as nn\n",
        "import torch.nn.functional as F\n",
        "import torch.optim as optim\n",
        "import torchvision\n",
        "import torchvision.transforms as transforms\n",
        "\n",
        "import matplotlib.pyplot as plt\n",
        "import numpy as np\n",
        "\n",
        "def imshow(img):\n",
        "    img = img / 2 + 0.5     # unnormalize\n",
        "    npimg = img.numpy()\n",
        "    plt.imshow(np.transpose(npimg, (1, 2, 0)))\n",
        "    plt.show()"
      ],
      "execution_count": 0,
      "outputs": []
    },
    {
      "cell_type": "code",
      "metadata": {
        "id": "5jXBVnpva42H",
        "colab_type": "code",
        "colab": {}
      },
      "source": [
        "transform = transforms.Compose(\n",
        "    [transforms.ToTensor(),\n",
        "     transforms.Normalize((0.5, 0.5, 0.5), (0.5, 0.5, 0.5))])"
      ],
      "execution_count": 0,
      "outputs": []
    },
    {
      "cell_type": "markdown",
      "metadata": {
        "id": "aYyJmZCddyyP",
        "colab_type": "text"
      },
      "source": [
        "### Getting data\n"
      ]
    },
    {
      "cell_type": "code",
      "metadata": {
        "id": "E1NhGA8Paao0",
        "colab_type": "code",
        "colab": {
          "base_uri": "https://localhost:8080/",
          "height": 51
        },
        "outputId": "398f135e-a79a-4499-d278-f0e060c66abb"
      },
      "source": [
        "\n",
        "traiset = torchvision.datasets.CIFAR10('./data', train=True, transform=transform, download=True)\n",
        "trainload = torch.utils.data.DataLoader( traiset, batch_size=4,shuffle=True)\n",
        "\n",
        "testset = torchvision.datasets.CIFAR10('./data', train=False, transform=transform, download=True)\n",
        "testload = torch.utils.data.DataLoader( testset, batch_size=4,shuffle=True)\n",
        "\n",
        "classes = ('plane', 'car', 'bird', 'cat',\n",
        "           'deer', 'dog', 'frog', 'horse', 'ship', 'truck')"
      ],
      "execution_count": 120,
      "outputs": [
        {
          "output_type": "stream",
          "text": [
            "Files already downloaded and verified\n",
            "Files already downloaded and verified\n"
          ],
          "name": "stdout"
        }
      ]
    },
    {
      "cell_type": "code",
      "metadata": {
        "id": "uyMDeRBcbIJf",
        "colab_type": "code",
        "colab": {}
      },
      "source": [
        "trainiter = iter(trainload)\n",
        "testiter = iter(testload)"
      ],
      "execution_count": 0,
      "outputs": []
    },
    {
      "cell_type": "code",
      "metadata": {
        "id": "v7vwD3tMcrFx",
        "colab_type": "code",
        "colab": {}
      },
      "source": [
        "tr_images, tr_labels = trainiter.next()\n",
        "ts_images, ts_labels = testiter.next()"
      ],
      "execution_count": 0,
      "outputs": []
    },
    {
      "cell_type": "code",
      "metadata": {
        "id": "jABUf9zsbtoe",
        "colab_type": "code",
        "colab": {
          "base_uri": "https://localhost:8080/",
          "height": 155
        },
        "outputId": "8181b22e-7012-4486-95d5-107f7423a744"
      },
      "source": [
        "imshow(torchvision.utils.make_grid(tr_images))\n",
        "print([classes[l] for l in tr_labels])"
      ],
      "execution_count": 126,
      "outputs": [
        {
          "output_type": "display_data",
          "data": {
            "image/png": "[encoded data removed]",
            "text/plain": [
              "<Figure size 432x288 with 1 Axes>"
            ]
          },
          "metadata": {
            "tags": []
          }
        },
        {
          "output_type": "stream",
          "text": [
            "['truck', 'horse', 'horse', 'frog']\n"
          ],
          "name": "stdout"
        }
      ]
    },
    {
      "cell_type": "code",
      "metadata": {
        "id": "h7htYd02dijJ",
        "colab_type": "code",
        "colab": {
          "base_uri": "https://localhost:8080/",
          "height": 155
        },
        "outputId": "470c51c1-5306-4118-fbaa-31c07a0f8bc7"
      },
      "source": [
        "imshow(torchvision.utils.make_grid(ts_images))\n",
        "print([classes[l] for l in ts_labels])"
      ],
      "execution_count": 127,
      "outputs": [
        {
          "output_type": "display_data",
          "data": {
            "image/png": "[encoded data removed]",
            "text/plain": [
              "<Figure size 432x288 with 1 Axes>"
            ]
          },
          "metadata": {
            "tags": []
          }
        },
        {
          "output_type": "stream",
          "text": [
            "['ship', 'cat', 'horse', 'frog']\n"
          ],
          "name": "stdout"
        }
      ]
    },
    {
      "cell_type": "markdown",
      "metadata": {
        "id": "r2nlY1lhd3_9",
        "colab_type": "text"
      },
      "source": [
        "### Build model"
      ]
    },
    {
      "cell_type": "code",
      "metadata": {
        "id": "H6T1DuSWdNfk",
        "colab_type": "code",
        "colab": {}
      },
      "source": [
        "class Net(nn.Module):\n",
        "  def __init__(self):\n",
        "     super(Net, self).__init__()\n",
        "     self.conv1 = nn.Conv2d(3,6,5)\n",
        "     self.pool1 = nn.MaxPool2d(2,2)\n",
        "     self.conv2 = nn.Conv2d(6,16,5)\n",
        "     \n",
        "     self.f1 = nn.Linear(16*5*5,120)\n",
        "     self.f2 = nn.Linear(120,84)\n",
        "     self.f3 = nn.Linear(84,10)\n",
        "\n",
        "  def forward(self, x):\n",
        "    x = F.relu(self.conv1(x))\n",
        "    x = self.pool1(x)\n",
        "    x = F.relu(self.conv2(x))\n",
        "    x = self.pool1(x)\n",
        "    x = x.view(-1, 16*5*5)\n",
        "    x = F.relu(self.f1(x))\n",
        "    x = F.relu(self.f2(x))\n",
        "    return self.f3(x)\n",
        "  "
      ],
      "execution_count": 0,
      "outputs": []
    },
    {
      "cell_type": "markdown",
      "metadata": {
        "id": "L7ZuBmkbewFZ",
        "colab_type": "text"
      },
      "source": [
        "### Greating NN, loss, optim and run training"
      ]
    },
    {
      "cell_type": "code",
      "metadata": {
        "id": "OgCsFHCLezsh",
        "colab_type": "code",
        "colab": {}
      },
      "source": [
        "net = Net()\n",
        "loss_func = nn.CrossEntropyLoss()\n",
        "optimazer = optim.SGD(net.parameters(), lr=0.001, momentum=0.9)\n"
      ],
      "execution_count": 0,
      "outputs": []
    },
    {
      "cell_type": "code",
      "metadata": {
        "id": "r5fbySI7fF8H",
        "colab_type": "code",
        "colab": {
          "base_uri": "https://localhost:8080/",
          "height": 221
        },
        "outputId": "754a5a56-e6dc-4400-9f95-4b514e98d860"
      },
      "source": [
        "print_step=2000\n",
        "for epoch in range(2):\n",
        "  cum_loss = 0.0\n",
        "  for i, batch in enumerate(traiload):\n",
        "    images, labels = batch\n",
        "    optimazer.zero_grad()\n",
        "    \n",
        "    predict = net(images) \n",
        "    loss = loss_func(predict, labels)\n",
        "    \n",
        "    loss.backward()\n",
        "    optimazer.step()\n",
        "\n",
        "    cum_loss += loss.item()\n",
        "    if i % print_step == 1999:\n",
        "      print(\"[%d %5d] loss: %.3f\"%(epoch+1, i+1,cum_loss/print_step))\n",
        "      cum_loss = 0.\n"
      ],
      "execution_count": 152,
      "outputs": [
        {
          "output_type": "stream",
          "text": [
            "[1  2000] loss: 2.272\n",
            "[1  4000] loss: 1.961\n",
            "[1  6000] loss: 1.746\n",
            "[1  8000] loss: 1.609\n",
            "[1 10000] loss: 1.558\n",
            "[1 12000] loss: 1.469\n",
            "[2  2000] loss: 1.402\n",
            "[2  4000] loss: 1.377\n",
            "[2  6000] loss: 1.363\n",
            "[2  8000] loss: 1.328\n",
            "[2 10000] loss: 1.286\n",
            "[2 12000] loss: 1.274\n"
          ],
          "name": "stdout"
        }
      ]
    },
    {
      "cell_type": "code",
      "metadata": {
        "id": "R5IpvbggkQk6",
        "colab_type": "code",
        "colab": {
          "base_uri": "https://localhost:8080/",
          "height": 34
        },
        "outputId": "4ebf9631-9942-4c34-895f-63ed31838125"
      },
      "source": [
        "labels.shape, predict.shape"
      ],
      "execution_count": 139,
      "outputs": [
        {
          "output_type": "execute_result",
          "data": {
            "text/plain": [
              "(torch.Size([4]), torch.Size([4, 10]))"
            ]
          },
          "metadata": {
            "tags": []
          },
          "execution_count": 139
        }
      ]
    },
    {
      "cell_type": "markdown",
      "metadata": {
        "id": "BXYPdCAThDDE",
        "colab_type": "text"
      },
      "source": [
        "### Save NN"
      ]
    },
    {
      "cell_type": "code",
      "metadata": {
        "id": "YyGqTEcDhCAa",
        "colab_type": "code",
        "colab": {
          "base_uri": "https://localhost:8080/",
          "height": 71
        },
        "outputId": "a6c53bb3-018a-451a-f867-8dc429d64d0b"
      },
      "source": [
        "PATH = './model/cifar1.pth'\n",
        "torch.save(net.state_dict, PATH)"
      ],
      "execution_count": 154,
      "outputs": [
        {
          "output_type": "stream",
          "text": [
            "/usr/local/lib/python3.6/dist-packages/torch/serialization.py:360: UserWarning: Couldn't retrieve source code for container of type Net. It won't be checked for correctness upon loading.\n",
            "  \"type \" + obj.__name__ + \". It won't be checked \"\n"
          ],
          "name": "stderr"
        }
      ]
    },
    {
      "cell_type": "markdown",
      "metadata": {
        "id": "GwzR0dBxhW8g",
        "colab_type": "text"
      },
      "source": [
        "### Testing"
      ]
    },
    {
      "cell_type": "code",
      "metadata": {
        "id": "y6eK9HnEhZsl",
        "colab_type": "code",
        "colab": {}
      },
      "source": [
        "all_images = 0\n",
        "positive_images = 0\n",
        "for batch in testload:\n",
        "  images, labels = batch\n",
        "  with torch.no_grad():\n",
        "    predict = net(images)\n",
        "    pr_labels = torch.argmax(predict, 1)\n",
        "    positive_labels = (labels == pr_labels).sum()\n",
        "    all_images += images.shape[0]\n",
        "    positive_images += positive_labels\n"
      ],
      "execution_count": 0,
      "outputs": []
    },
    {
      "cell_type": "code",
      "metadata": {
        "id": "SRjSdgNMjGFl",
        "colab_type": "code",
        "colab": {
          "base_uri": "https://localhost:8080/",
          "height": 34
        },
        "outputId": "c498feec-046f-4ed5-a660-3980291496d7"
      },
      "source": [
        "print(\"Acc: %.f\"%(100* positive_images/all_images))"
      ],
      "execution_count": 158,
      "outputs": [
        {
          "output_type": "stream",
          "text": [
            "Acc: 54\n"
          ],
          "name": "stdout"
        }
      ]
    }
  ]
}